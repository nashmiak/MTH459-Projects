{
 "cells": [
  {
   "cell_type": "markdown",
   "metadata": {},
   "source": [
    "### MTH 459/559 - ch 18 American Put binomial"
   ]
  },
  {
   "cell_type": "code",
   "execution_count": 1,
   "metadata": {},
   "outputs": [],
   "source": [
    "# ch18_american_put_binomial.ipynb  \n",
    "import numpy as np # library for numerical & math calculations\n",
    "import matplotlib.pyplot as plt # library for graphing \n",
    "import scipy.stats as sp # library with prob/stat functions"
   ]
  },
  {
   "cell_type": "code",
   "execution_count": 2,
   "metadata": {},
   "outputs": [
    {
     "name": "stdout",
     "output_type": "stream",
     "text": [
      "American Put binomial price =  1.4363108380168788\n"
     ]
    }
   ],
   "source": [
    "# binomial tree method of option valuation\n",
    "\n",
    "# stock paramters\n",
    "S0 = 9\n",
    "K = 10\n",
    "T = 1.\n",
    "r = 0.06\n",
    "sigma = 0.3\n",
    "\n",
    "# binomial parameters for stock model\n",
    "M = 100\n",
    "dt = T/M\n",
    "p = 0.5\n",
    "nu = r - 0.5*sigma**2\n",
    "u = np.exp(sigma*np.sqrt(dt)+nu*dt)\n",
    "d = np.exp(-sigma*np.sqrt(dt)+nu*dt)\n",
    "\n",
    "# stock model - need entire tree for American put\n",
    "from scipy.special import comb as nchoosek\n",
    "S = np.zeros((M+1, M+1))*np.NaN # array of S values at t=T\n",
    "#prob = np.zeros(M+1)  #probability at t=T\n",
    "for i in range(M+1): # i = 0,...,M\n",
    "    for n in range(i+1): # n = 0,..,i\n",
    "        S[i,n]=S0*d**(i-n)*u**(n)   # i-n down steps and n up steps\n",
    "#    prob[n] = nchoosek(M,n)*p**n*(1-p)**(M-n)\n",
    "\n",
    "# binomial tree for option values\n",
    "V = np.zeros((M+1, M+1))*np.NaN # V(i,j) = option value at t_i, n down steps\n",
    "Exercise = np.zeros((M+1, M+1))*np.NaN\n",
    "\n",
    "# payout values at t=T\n",
    "for n in range(M+1): # n = 0,1,...,M\n",
    "    V[M,n] = max(K-S[M,n],0)    # payout function at t=T\n",
    "    if(V[M,n]>0):\n",
    "        Exercise[M,n]=1\n",
    "    else:\n",
    "        Exercise[M,n]=0\n",
    "\n",
    "# propagate option value backwards using (18.7)\n",
    "for i in range(M-1, -1, -1): # i = M-1,M-2,...,0 \n",
    "    for n in range(i+1):     # n = 0,1,...,i\n",
    "        V_no = np.exp(-r*dt)*(p*V[i+1,n+1]+(1-p)*V[i+1,n]) \n",
    "        V_yes = K-S[i,n]\n",
    "        V[i,n]= max(V_yes,V_no)\n",
    "        if(V_yes > V_no):\n",
    "            Exercise[i,n]=1\n",
    "        else:\n",
    "            Exercise[i,n]=0\n",
    "price = V[0,0]\n",
    "print('American Put binomial price = ',price)"
   ]
  },
  {
   "cell_type": "code",
   "execution_count": 3,
   "metadata": {},
   "outputs": [
    {
     "data": {
      "image/png": "[encoded data removed]",
      "text/plain": [
       "<Figure size 432x288 with 1 Axes>"
      ]
     },
     "metadata": {
      "needs_background": "light"
     },
     "output_type": "display_data"
    }
   ],
   "source": [
    "# exercise boundary\n",
    "t = np.linspace(0,T,M+1)\n",
    "Smax = np.zeros(M+1)\n",
    "Smin = np.zeros(M+1)\n",
    "bex = np.zeros(M+1)*np.NaN\n",
    "for i in range(M, -1, -1): # i = M,M-1,...,0\n",
    "    Smin[i] = S0*d**i\n",
    "    Smax[i] = S0*u**i\n",
    "    ifound=0\n",
    "    for n in range(i,-1,-1):     # n = i,i-1,...0 to give decreasing S\n",
    "        if(ifound==0 and Exercise[i,n]==1):\n",
    "            ifound=1\n",
    "            bex[i]=S[i,n]\n",
    "plt.plot(bex,t,'b',label='S*(t)')\n",
    "plt.plot(Smin,t,'r:',label='triangle')\n",
    "plt.plot(Smax,t,'r:')\n",
    "Smax = 12 \n",
    "plt.xlim(0,Smax)\n",
    "plt.hlines(T,0,Smax,colors='k',linestyles='--')\n",
    "plt.hlines(0,0,Smax,colors='k',linestyles='--')\n",
    "plt.title('exercise boundary for American Put option')\n",
    "plt.ylabel('t'), plt.xlabel('S')\n",
    "plt.legend()\n",
    "plt.show()"
   ]
  },
  {
   "cell_type": "markdown",
   "metadata": {},
   "source": [
    "Note:\n",
    "* S*(t) has small odd/even oscillations because of discreteness of the binomial lattice  \n",
    "* For t close to zero the exercise boundary may be outside of the triangle of stock prices in the binomial lattice, so it will not be found from the lattice data.\n",
    "\n"
   ]
  }
 ],
 "metadata": {
  "kernelspec": {
   "display_name": "Python 3",
   "language": "python",
   "name": "python3"
  },
  "language_info": {
   "codemirror_mode": {
    "name": "ipython",
    "version": 3
   },
   "file_extension": ".py",
   "mimetype": "text/x-python",
   "name": "python",
   "nbconvert_exporter": "python",
   "pygments_lexer": "ipython3",
   "version": "3.7.6"
  }
 },
 "nbformat": 4,
 "nbformat_minor": 2
}
