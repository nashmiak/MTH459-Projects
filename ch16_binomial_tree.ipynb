{
 "cells": [
  {
   "cell_type": "markdown",
   "metadata": {},
   "source": [
    "### MTH 459/559 - ch 16 binomial tree method"
   ]
  },
  {
   "cell_type": "code",
   "execution_count": 1,
   "metadata": {},
   "outputs": [],
   "source": [
    "# ch16_binomial_tree.ipynb  \n",
    "import numpy as np # library for numerical & math calculations\n",
    "import matplotlib.pyplot as plt # library for graphing \n",
    "import scipy.stats as sp # library with prob/stat functions"
   ]
  },
  {
   "cell_type": "code",
   "execution_count": 2,
   "metadata": {},
   "outputs": [],
   "source": [
    "# functions for exact value of European Call for comparison\n",
    "def d1(S,K,T,t,r,sigma):\n",
    "    d1 = (np.log(S/K) + (r+0.5*sigma**2)*(T-t))/(sigma*np.sqrt(T-t))\n",
    "    return d1\n",
    "def d2(S,K,T,t,r,sigma):\n",
    "    d2 = (np.log(S/K) + (r-0.5*sigma**2)*(T-t))/(sigma*np.sqrt(T-t))\n",
    "    return d2\n",
    "def C_euro(S,K,T,t,r,sigma):\n",
    "    C_euro = S*sp.norm.cdf(d1(S,K,T,t,r,sigma))-\\\n",
    "        K*np.exp(-r*(T-t))*sp.norm.cdf(d2(S,K,T,t,r,sigma)) \n",
    "    return C_euro"
   ]
  },
  {
   "cell_type": "code",
   "execution_count": 3,
   "metadata": {},
   "outputs": [
    {
     "name": "stdout",
     "output_type": "stream",
     "text": [
      "binomial option price      =  2.123308242012514\n",
      "Black-Scholes option price =  2.1200938314108675\n",
      "error =  0.0032144106016462892\n"
     ]
    }
   ],
   "source": [
    "# binomial tree method of option valuation\n",
    "\n",
    "# stock paramters\n",
    "S0 = 9\n",
    "K = 10\n",
    "T = 3.\n",
    "r = 0.06\n",
    "sigma = 0.3\n",
    "\n",
    "# binomial parameters for stock model\n",
    "M = 100\n",
    "dt = T/M\n",
    "p = 0.5\n",
    "nu = r - 0.5*sigma**2\n",
    "u = np.exp(sigma*np.sqrt(dt)+nu*dt)\n",
    "d = np.exp(-sigma*np.sqrt(dt)+nu*dt)\n",
    "#print('p,u,d = ',p,u,d)\n",
    "\n",
    "# stock model \n",
    "from scipy.special import comb as nchoosek\n",
    "S = np.zeros(M+1) # array of S values at t=T\n",
    "prob = np.zeros(M+1)  #probability at t=T\n",
    "for n in range(M+1): # n = 0,1,...,M\n",
    "    S[n]=S0*d**(M-n)*u**(n)   # M-n down steps and n up steps\n",
    "    prob[n] = nchoosek(M,n)*p**n*(1-p)**(M-n)\n",
    "#print('S_T    = ',S)\n",
    "#print(prob,sum(prob))\n",
    "\n",
    "# compare probability distribution of S_T to asset model\n",
    "#Z = (np.log(S/S0) - nu*T)/(sigma*np.sqrt(T))\n",
    "#binwidth = np.log(u/d)/(sigma*np.sqrt(T))\n",
    "#plt.plot(Z,prob/binwidth,'bo')\n",
    "#xfine = np.linspace(-3,3) # fine array in x for plotting exact curve\n",
    "#plt.plot(xfine,sp.norm.pdf(xfine),'r-')\n",
    "#plt.xlabel('z')\n",
    "#plt.ylabel('probability')\n",
    "#plt.show()\n",
    "\n",
    "# binomial tree for option values\n",
    "V = np.zeros((M+1, M+1))*np.NaN # V(i,j) = option value at t_i, n down steps\n",
    "\n",
    "# payout values at t=T\n",
    "for n in range(M+1): # n = 0,1,...,M\n",
    "    V[M,n] = max(S[n]-K,0)    # payout function at t=T\n",
    "#print(V[M,:])\n",
    "    \n",
    "# propagate option value backwards using (16.3)\n",
    "for i in range(M-1, -1, -1): # i = M-1,M-2,...,0 \n",
    "    for n in range(i+1):     # n = 0,1,...,i\n",
    "        V[i,n]=np.exp(-r*dt)*(p*V[i+1,n+1]+(1-p)*V[i+1,n]) \n",
    "#print(V)\n",
    "price = V[0,0]\n",
    "\n",
    "# compare to exact option price\n",
    "print('binomial option price      = ',price)\n",
    "print('Black-Scholes option price = ',C_euro(S0,K,T,0,r,sigma))\n",
    "print('error = ',price-C_euro(S0,K,T,0,r,sigma))"
   ]
  },
  {
   "cell_type": "markdown",
   "metadata": {},
   "source": [
    "Note - Error ->0 but not monotonic in M (see text sec 16.4):\n",
    "* Error distinctly different for M even vs M odd.  \n",
    "* error has decaying oscillations as M increases\n",
    "* overall, error can be bounded by const/M  "
   ]
  },
  {
   "cell_type": "code",
   "execution_count": null,
   "metadata": {},
   "outputs": [],
   "source": []
  }
 ],
 "metadata": {
  "kernelspec": {
   "display_name": "Python 3",
   "language": "python",
   "name": "python3"
  },
  "language_info": {
   "codemirror_mode": {
    "name": "ipython",
    "version": 3
   },
   "file_extension": ".py",
   "mimetype": "text/x-python",
   "name": "python",
   "nbconvert_exporter": "python",
   "pygments_lexer": "ipython3",
   "version": "3.7.6"
  }
 },
 "nbformat": 4,
 "nbformat_minor": 2
}
