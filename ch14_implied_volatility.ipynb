{
 "cells": [
  {
   "cell_type": "markdown",
   "metadata": {},
   "source": [
    "### MTH 459/559 - Ch 14 Implied Volatility"
   ]
  },
  {
   "cell_type": "code",
   "execution_count": 1,
   "metadata": {},
   "outputs": [],
   "source": [
    "# ch14_implied_volatility.ipynb  \n",
    "import numpy as np # numerical & math calculations\n",
    "import matplotlib.pyplot as plt # graphing \n",
    "import scipy.stats as sp # prob/stat functions"
   ]
  },
  {
   "cell_type": "markdown",
   "metadata": {},
   "source": [
    "Taking functions for d1, d2, C_euro from Ch 8 code, adding function for \"vega\"  \n",
    "C_vega = dC/dsigma = S N'(d1) sqrt(T-t)   \n",
    "where N'(x) = (1/sqrt(2pi) exp(-x^2/2) = sp.norm.pdf(x)"
   ]
  },
  {
   "cell_type": "code",
   "execution_count": 2,
   "metadata": {},
   "outputs": [],
   "source": [
    "# define functions needed for European Call\n",
    "def d1(S,K,T,t,r,sigma):\n",
    "    d1 = (np.log(S/K) + (r+0.5*sigma**2)*(T-t))/(sigma*np.sqrt(T-t))\n",
    "    return d1\n",
    "def d2(S,K,T,t,r,sigma):\n",
    "    d2 = (np.log(S/K) + (r-0.5*sigma**2)*(T-t))/(sigma*np.sqrt(T-t))\n",
    "    return d2\n",
    "def C_euro(S,K,T,t,r,sigma):\n",
    "    C_euro = S*sp.norm.cdf(d1(S,K,T,t,r,sigma))-\\\n",
    "        K*np.exp(-r*(T-t))*sp.norm.cdf(d2(S,K,T,t,r,sigma)) \n",
    "    return C_euro\n",
    "def C_vega(S,K,T,t,r,sigma):\n",
    "    C_vega = S*sp.norm.pdf(d1(S,K,T,t,r,sigma))*np.sqrt(T-t)\n",
    "    return C_vega"
   ]
  },
  {
   "cell_type": "code",
   "execution_count": 3,
   "metadata": {},
   "outputs": [
    {
     "name": "stdout",
     "output_type": "stream",
     "text": [
      "8.525735006558161 53.154909762878134\n"
     ]
    }
   ],
   "source": [
    "# test parameters\n",
    "S = 100;\n",
    "K = 140;\n",
    "T = 2;\n",
    "t = 0;\n",
    "r = 0.05;\n",
    "sigma = 0.3;\n",
    "print(C_euro(S,K,T,t,r,sigma),C_vega(S,K,T,t,r,sigma))"
   ]
  },
  {
   "cell_type": "code",
   "execution_count": 4,
   "metadata": {},
   "outputs": [
    {
     "data": {
      "image/png": "[encoded data removed]",
      "text/plain": [
       "<Figure size 432x288 with 1 Axes>"
      ]
     },
     "metadata": {
      "needs_background": "light"
     },
     "output_type": "display_data"
    }
   ],
   "source": [
    "eps = 1e-4; # a small number to avoid divide by zero at sigma = 0\n",
    "sigma = np.linspace(eps,5,101);\n",
    "plt.plot(sigma,C_euro(S,K,T,t,r,sigma))\n",
    "plt.xlabel('$\\sigma$')\n",
    "plt.ylabel('C_euro')\n",
    "plt.show()"
   ]
  },
  {
   "cell_type": "code",
   "execution_count": 5,
   "metadata": {},
   "outputs": [
    {
     "name": "stdout",
     "output_type": "stream",
     "text": [
      "inewt    sigma         C-C_star\n",
      "1 0.8921233830298507 0.9538535086364774\n",
      "2 0.8734704225908768 -0.0035917244908176826\n",
      "3 0.8735401370203366 -4.9426908788063884e-08\n",
      "4 0.8735401379797263 0.0\n",
      "implied volatility =  0.8735401379797263\n"
     ]
    }
   ],
   "source": [
    "# Use given C_star to find implied volatility sigma_star from C(sigma_star)=C_star\n",
    "# using Newton's method\n",
    "C_star = 40;  # given value of C\n",
    "sigma_old = 0.3  # initial guess for sigma\n",
    "inewt=0 # counter for number of interations\n",
    "print('inewt    sigma         C-C_star')\n",
    "while abs(C_euro(S,K,T,t,r,sigma_old)-C_star) > 1e-8:  # iterate until error in eqn < 1e-8\n",
    "    inewt=inewt+1          # update counter of iterations\n",
    "    # sigma1 = sigma0 - (C(sigma0)-Cstar)/vega(sigma0)\n",
    "    sigma_new = sigma_old-(C_euro(S,K,T,t,r,sigma_old)-C_star)/C_vega(S,K,T,t,r,sigma_old)\n",
    "    print(inewt,sigma_new, C_euro(S,K,T,t,r,sigma_new)-C_star)\n",
    "    sigma_old = sigma_new  # update guess to improved estimate\n",
    "sigma_star = sigma_new     # save converged result as sigma_star\n",
    "print('implied volatility = ',sigma_star)"
   ]
  },
  {
   "cell_type": "code",
   "execution_count": 6,
   "metadata": {},
   "outputs": [
    {
     "data": {
      "image/png": "[encoded data removed]",
      "text/plain": [
       "<Figure size 432x288 with 1 Axes>"
      ]
     },
     "metadata": {
      "needs_background": "light"
     },
     "output_type": "display_data"
    }
   ],
   "source": [
    "plt.plot(sigma,C_euro(S,K,T,t,r,sigma))\n",
    "plt.hlines(C_star,0,sigma_new)\n",
    "plt.vlines(sigma_star,0,C_star)\n",
    "plt.xlabel('$\\sigma$')\n",
    "plt.ylabel('C_euro')\n",
    "plt.show()"
   ]
  },
  {
   "cell_type": "markdown",
   "metadata": {},
   "source": [
    "Note: \"automatic\" rootfinding functions exist (eg [scipy.optimize.root_scalar](https://docs.scipy.org/doc/scipy/reference/generated/scipy.optimize.root_scalar.html#scipy.optimize.root_scalar) ) but need to use special syntax to distinguish between the variable (here sigma) and parameters (S, K, T, t, r)."
   ]
  }
 ],
 "metadata": {
  "kernelspec": {
   "display_name": "Python 3",
   "language": "python",
   "name": "python3"
  },
  "language_info": {
   "codemirror_mode": {
    "name": "ipython",
    "version": 3
   },
   "file_extension": ".py",
   "mimetype": "text/x-python",
   "name": "python",
   "nbconvert_exporter": "python",
   "pygments_lexer": "ipython3",
   "version": "3.7.6"
  }
 },
 "nbformat": 4,
 "nbformat_minor": 2
}
