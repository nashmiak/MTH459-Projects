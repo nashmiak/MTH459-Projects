{
 "cells": [
  {
   "cell_type": "markdown",
   "metadata": {},
   "source": [
    "### MTH 459/559 - ch 15 Monte Carlo method"
   ]
  },
  {
   "cell_type": "code",
   "execution_count": 1,
   "metadata": {},
   "outputs": [],
   "source": [
    "# ch15_monte_carlo.ipynb  \n",
    "import numpy as np # library for numerical & math calculations\n",
    "import matplotlib.pyplot as plt # library for graphing \n",
    "import scipy.stats as sp # library with prob/stat functions"
   ]
  },
  {
   "cell_type": "markdown",
   "metadata": {},
   "source": [
    "**Outline:**  \n",
    "I. simple Monte Carlo for estimating mean with confidence interval  \n",
    "II. illustration of convergence of estimates as M increases  \n",
    "III. usage to calculate value of European Call option"
   ]
  },
  {
   "cell_type": "code",
   "execution_count": 2,
   "metadata": {},
   "outputs": [
    {
     "name": "stdout",
     "output_type": "stream",
     "text": [
      "exact values:\n",
      "mean =  0  standard deviation =  1\n",
      "estimates:\n",
      "mean =  -0.11672152325412076  standard deviation =  1.0990016908156817\n",
      "95% confidence interval:\n",
      "95% confidence interval:  -0.33212585465399436  < mu <  0.09868280814575285\n"
     ]
    }
   ],
   "source": [
    "# I. simple Monte Carlo example\n",
    "# set parameters and generate random sample\n",
    "mu = 0\n",
    "sigma = 1\n",
    "M = 100\n",
    "X = sp.norm.rvs(loc=mu,scale=sigma,size=M);\n",
    "# use sample to estimate mean, std deviation, confidence interval\n",
    "aM = np.mean(X);\n",
    "bM = np.sqrt(np.var(X,ddof=1))\n",
    "cM = aM - 1.96*bM/np.sqrt(M)\n",
    "dM = aM + 1.96*bM/np.sqrt(M)\n",
    "print('exact values:')\n",
    "print('mean = ',mu,' standard deviation = ',sigma)\n",
    "print('estimates:')\n",
    "print('mean = ',aM,' standard deviation = ',bM)\n",
    "print('95% confidence interval:')\n",
    "print('95% confidence interval: ',cM,' < mu < ',dM)"
   ]
  },
  {
   "cell_type": "code",
   "execution_count": 3,
   "metadata": {},
   "outputs": [
    {
     "data": {
      "image/png": "[encoded data removed]",
      "text/plain": [
       "<Figure size 432x288 with 1 Axes>"
      ]
     },
     "metadata": {
      "needs_background": "light"
     },
     "output_type": "display_data"
    }
   ],
   "source": [
    "# II. show convergence of estimates as M increases\n",
    "maxpower = 6\n",
    "for power in range(1,maxpower+1):\n",
    "    M = 10**power\n",
    "    X = sp.norm.rvs(loc=mu,scale=sigma,size=M)\n",
    "    aM = np.mean(X);\n",
    "    bM = np.sqrt(np.var(X,ddof=1))\n",
    "    a_err = 1.96*bM/np.sqrt(M)  # size of error bars\n",
    "    cM = aM - a_err  # confidence interval\n",
    "    dM = aM + a_err\n",
    "    #print(M,aM,a_err)\n",
    "    plt.errorbar(power,aM,yerr=a_err,fmt='bo')\n",
    "plt.hlines(0,0,maxpower,colors='k',linestyles='dashed')\n",
    "plt.xlabel('power (M=10^power)')\n",
    "plt.ylabel('estimate of mean with error bars')\n",
    "plt.show()    "
   ]
  },
  {
   "cell_type": "code",
   "execution_count": 4,
   "metadata": {},
   "outputs": [],
   "source": [
    "# III. monte carlo estimate of option price\n",
    "def monte_carlo_euro(S,K,T,r,sigma,M):\n",
    "    nu = r - 0.5*sigma**2\n",
    "    C = np.zeros(M);\n",
    "    for j in range(M):\n",
    "        Z = sp.norm.rvs(); # random var from standard normal dist\n",
    "        ST = S*np.exp(nu*T + sigma*np.sqrt(T)*Z); # asset model \n",
    "        C[j] = np.exp(-r*T)*max(ST-K,0); # value of European Call\n",
    "        #print(j,Z,ST,C[j])\n",
    "    aM = np.mean(C);\n",
    "    bM = np.sqrt(np.var(C,ddof=1));\n",
    "    return [aM, bM];\n",
    "\n",
    "# functions for exact value of European Call for comparison\n",
    "def d1(S,K,T,t,r,sigma):\n",
    "    d1 = (np.log(S/K) + (r+0.5*sigma**2)*(T-t))/(sigma*np.sqrt(T-t))\n",
    "    return d1\n",
    "def d2(S,K,T,t,r,sigma):\n",
    "    d2 = (np.log(S/K) + (r-0.5*sigma**2)*(T-t))/(sigma*np.sqrt(T-t))\n",
    "    return d2\n",
    "def C_euro(S,K,T,t,r,sigma):\n",
    "    C_euro = S*sp.norm.cdf(d1(S,K,T,t,r,sigma))-\\\n",
    "        K*np.exp(-r*(T-t))*sp.norm.cdf(d2(S,K,T,t,r,sigma)) \n",
    "    return C_euro"
   ]
  },
  {
   "cell_type": "code",
   "execution_count": 5,
   "metadata": {},
   "outputs": [
    {
     "data": {
      "image/png": "[encoded data removed]",
      "text/plain": [
       "<Figure size 432x288 with 1 Axes>"
      ]
     },
     "metadata": {
      "needs_background": "light"
     },
     "output_type": "display_data"
    }
   ],
   "source": [
    "# find option value C(S) using Monte Carlo\n",
    "r = 0.05\n",
    "sigma = 0.3\n",
    "t = 0\n",
    "T = 1\n",
    "K = 90\n",
    "M = 100 # number of Monte Carlo simulations\n",
    "\n",
    "# set up array to find function of S\n",
    "nfine = 11\n",
    "S = np.linspace(50,150,nfine)\n",
    "aM = np.zeros(nfine)\n",
    "a_err = np.zeros(nfine)\n",
    "Cexact = np.zeros(nfine)\n",
    "for k in range(nfine):  # loop over all S values\n",
    "    [aM[k],bM] = monte_carlo_euro(S[k],K,T,r,sigma,M)\n",
    "    a_err[k] = 1.96*bM/np.sqrt(M)\n",
    "    Cexact[k] = C_euro(S[k],K,T,t,r,sigma) # exact value \n",
    "plt.errorbar(S,aM,yerr=a_err,fmt='bo')\n",
    "plt.plot(S,Cexact,'r--')\n",
    "plt.xlabel('S')\n",
    "plt.ylabel('C')\n",
    "plt.show()"
   ]
  }
 ],
 "metadata": {
  "kernelspec": {
   "display_name": "Python 3",
   "language": "python",
   "name": "python3"
  },
  "language_info": {
   "codemirror_mode": {
    "name": "ipython",
    "version": 3
   },
   "file_extension": ".py",
   "mimetype": "text/x-python",
   "name": "python",
   "nbconvert_exporter": "python",
   "pygments_lexer": "ipython3",
   "version": "3.7.6"
  }
 },
 "nbformat": 4,
 "nbformat_minor": 2
}
